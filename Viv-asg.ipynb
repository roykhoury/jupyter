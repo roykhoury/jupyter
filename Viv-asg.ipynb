{
 "cells": [
  {
   "cell_type": "code",
   "execution_count": 1,
   "metadata": {},
   "outputs": [
    {
     "name": "stdout",
     "output_type": "stream",
     "text": [
      "Requirement already satisfied: openpyxl in /srv/conda/envs/notebook/lib/python3.6/site-packages (3.0.6)\n",
      "Requirement already satisfied: jdcal in /srv/conda/envs/notebook/lib/python3.6/site-packages (from openpyxl) (1.4.1)\n",
      "Requirement already satisfied: et-xmlfile in /srv/conda/envs/notebook/lib/python3.6/site-packages (from openpyxl) (1.0.1)\n",
      "HR Data length: 10098\n",
      "Exist Data length: 1838\n"
     ]
    }
   ],
   "source": [
    "# Just ignore this shit\n",
    "import sys\n",
    "!{sys.executable} -m pip install openpyxl\n",
    "\n",
    "import pandas as pd\n",
    "import numpy as np\n",
    "import matplotlib.pyplot as plt\n",
    "\n",
    "%matplotlib inline\n",
    "\n",
    "# starts here\n",
    "hr_data = pd.read_excel(\"data-2.xlsx\", sheet_name='HR Data', engine='openpyxl')\n",
    "exit_data = pd.read_excel(\"data-2.xlsx\", sheet_name='HR Exit', engine='openpyxl')\n",
    "    \n",
    "# Just printing the data, to visualize better\n",
    "print (\"HR Data length:\", len(hr_data))\n",
    "print (\"Exist Data length:\", len(exit_data))"
   ]
  },
  {
   "cell_type": "code",
   "execution_count": 2,
   "metadata": {
    "scrolled": true
   },
   "outputs": [
    {
     "name": "stdout",
     "output_type": "stream",
     "text": [
      "Voluntary terminations:  996\n"
     ]
    }
   ],
   "source": [
    "# How many voluntary terminated employees\n",
    "voluntary_exit_data = exit_data.loc[exit_data['Name of action type'] == 'Voluntary Termination']\n",
    "print(\"Voluntary terminations: \", len(voluntary_exit_data))"
   ]
  },
  {
   "cell_type": "code",
   "execution_count": 3,
   "metadata": {},
   "outputs": [
    {
     "name": "stdout",
     "output_type": "stream",
     "text": [
      "      EmployeeID  Voluntary Turnover\n",
      "0           7765                   1\n",
      "1           8644                   1\n",
      "2           1751                   0\n",
      "3           4394                   0\n",
      "4           2597                   0\n",
      "...          ...                 ...\n",
      "1833        5492                   1\n",
      "1834       10146                   1\n",
      "1835       10057                   1\n",
      "1836        3726                   1\n",
      "1837        2676                   1\n",
      "\n",
      "[1838 rows x 2 columns]\n",
      "       EmployeeID  Voluntary Turnover\n",
      "0            6256                   0\n",
      "1            8849                   0\n",
      "2           10342                   0\n",
      "3            4731                   1\n",
      "4           10317                   0\n",
      "...           ...                 ...\n",
      "10093        8831                   0\n",
      "10094        9137                   0\n",
      "10095        3898                   1\n",
      "10096        1929                   0\n",
      "10097        9576                   1\n",
      "\n",
      "[10098 rows x 2 columns]\n"
     ]
    }
   ],
   "source": [
    "# Let's make a new column and fill it in, \n",
    "# For exit data, if Voluntary Terminal == 1, else 0\n",
    "exit_data['Voluntary Turnover'] = np.where(exit_data['Name of action type'] == 'Voluntary Termination', 1, 0)\n",
    "\n",
    "# For Hr data, If the employee, is found in the HR exit list of voluntary terminated employees, \n",
    "# we update to 1, it otherwise ... 0 . that's what i'm going with \n",
    "matching_volun_term_employees = voluntary_exit_data['EmployeeID'].values\n",
    "hr_data['Voluntary Turnover'] = hr_data['EmployeeID'].isin(matching_volun_term_employees).astype(int)\n",
    "\n",
    "# Just printing the data, to visualize\n",
    "print (exit_data[['EmployeeID', 'Voluntary Turnover']])\n",
    "print (hr_data[['EmployeeID', 'Voluntary Turnover']])"
   ]
  },
  {
   "cell_type": "code",
   "execution_count": 4,
   "metadata": {},
   "outputs": [
    {
     "name": "stdout",
     "output_type": "stream",
     "text": [
      "All exit hr employees: 1838\n",
      "All inactive accounts from hr data: 114\n"
     ]
    }
   ],
   "source": [
    "#For 'ALL turnover'. basically all data from exit_hr?\n",
    "print (\"All exit hr employees:\", len(exit_data))\n",
    "\n",
    "#Count number of inactive accounts? like you did in your answer, to take into consideration as well\n",
    "print(\"All inactive accounts from hr data:\", len(hr_data.loc[hr_data['Name'] == 'Inactive']))"
   ]
  },
  {
   "cell_type": "code",
   "execution_count": 5,
   "metadata": {},
   "outputs": [
    {
     "name": "stdout",
     "output_type": "stream",
     "text": [
      "      EmployeeID  All Turnover\n",
      "0           7765             1\n",
      "1           8644             1\n",
      "2           1751             1\n",
      "3           4394             1\n",
      "4           2597             1\n",
      "...          ...           ...\n",
      "1833        5492             1\n",
      "1834       10146             1\n",
      "1835       10057             1\n",
      "1836        3726             1\n",
      "1837        2676             1\n",
      "\n",
      "[1838 rows x 2 columns]\n",
      "       EmployeeID  All Turnover\n",
      "70           7879             1\n",
      "104          4076             1\n",
      "119          2792             1\n",
      "254         10247             1\n",
      "281          7556             1\n",
      "...           ...           ...\n",
      "9311         3625             1\n",
      "9485         3175             1\n",
      "9798         1316             1\n",
      "9978         9709             1\n",
      "10003        1652             1\n",
      "\n",
      "[114 rows x 2 columns]\n"
     ]
    }
   ],
   "source": [
    "# So let's make a new column and fill it in,\n",
    "\n",
    "# For exit data, they're all \"1\" since they are all terminated I guess?, so all 1s\n",
    "exit_data['All Turnover'] = 1\n",
    "\n",
    "# For hr data, we can go with the accounts that are inactive, like you did cuz i'm not sure at this point\n",
    "hr_data['All Turnover'] = np.where(hr_data['Name'] == 'Inactive', 1, 0)\n",
    "\n",
    "# Just printing the data, to visualize\n",
    "print (exit_data[['EmployeeID', 'All Turnover']])\n",
    "\n",
    "# printed only the ones that are have turnover\n",
    "print (hr_data[['EmployeeID', 'All Turnover']].loc[hr_data['All Turnover'] == 1])"
   ]
  },
  {
   "cell_type": "code",
   "execution_count": 6,
   "metadata": {},
   "outputs": [
    {
     "name": "stdout",
     "output_type": "stream",
     "text": [
      "       EmployeeID  Firm Tenure days\n",
      "0            6256           15129.0\n",
      "1            8849           14659.0\n",
      "2           10342           14593.0\n",
      "3            4731           13624.0\n",
      "4           10317           13456.0\n",
      "...           ...               ...\n",
      "10093        8831             702.0\n",
      "10094        9137             520.0\n",
      "10095        3898             520.0\n",
      "10096        1929             492.0\n",
      "10097        9576             454.0\n",
      "\n",
      "[10098 rows x 2 columns]\n",
      "      EmployeeID  Firm Tenure days\n",
      "0           7765             14191\n",
      "1           8644             11916\n",
      "2           1751              9872\n",
      "3           4394              9579\n",
      "4           2597              9508\n",
      "...          ...               ...\n",
      "1833        5492              7856\n",
      "1834       10146               723\n",
      "1835       10057               -75\n",
      "1836        3726              -159\n",
      "1837        2676              -222\n",
      "\n",
      "[1838 rows x 2 columns]\n"
     ]
    }
   ],
   "source": [
    "# Tenure date ...\n",
    "# So every employee, from the date they started till date of report (in days)? .. aight\n",
    " \n",
    "# Here we go through every column, and parse the string into a datetime object that we can do some nice operations on\n",
    "# BTW: here we use errors='coerce' to force the function 'to_datetime' to kinda ignore invalid dates ish\n",
    "hr_data['Original Hire Date'] = pd.to_datetime(hr_data['Original Hire Date'], errors='coerce')\n",
    "exit_data['OrgHire'] = pd.to_datetime(exit_data['OrgHire'], errors='coerce')\n",
    "\n",
    "# So where the hell is the date of the report?, but aight ill just make one\n",
    "hr_data['Report date'] = pd.to_datetime('2014-01-15')\n",
    "exit_data['Report date'] = pd.to_datetime('2014-01-15')\n",
    "\n",
    "# Now we calculate the dates\n",
    "hr_data['Firm Tenure days'] = (hr_data['Report date'] - hr_data['Original Hire Date']).dt.days\n",
    "exit_data['Firm Tenure days'] = (exit_data['Report date'] - exit_data['OrgHire']).dt.days\n",
    "\n",
    "# Just printing the reuslts to visualize\n",
    "# Looks like we have some negative days in HR_exit data, some people got hired after the date Jan 15 2015,\n",
    "# I mean if we just have a more recent report date should be fine\n",
    "print (hr_data[['EmployeeID', 'Firm Tenure days']])\n",
    "print (exit_data[['EmployeeID', 'Firm Tenure days']])"
   ]
  },
  {
   "cell_type": "code",
   "execution_count": 7,
   "metadata": {},
   "outputs": [
    {
     "name": "stdout",
     "output_type": "stream",
     "text": [
      "       EmployeeID  Job Tenure days\n",
      "0            6256            15129\n",
      "1            8849            14659\n",
      "2           10342            14593\n",
      "3            4731            13624\n",
      "4           10317            10166\n",
      "...           ...              ...\n",
      "10093        8831              702\n",
      "10094        9137              520\n",
      "10095        3898              520\n",
      "10096        1929              492\n",
      "10097        9576              454\n",
      "\n",
      "[10098 rows x 2 columns]\n",
      "      EmployeeID  Job Tenure days\n",
      "0           7765            14191\n",
      "1           8644            11916\n",
      "2           1751             9872\n",
      "3           4394             8411\n",
      "4           2597             9508\n",
      "...          ...              ...\n",
      "1833        5492             7856\n",
      "1834       10146              723\n",
      "1835       10057              -75\n",
      "1836        3726             -159\n",
      "1837        2676             -222\n",
      "\n",
      "[1838 rows x 2 columns]\n"
     ]
    }
   ],
   "source": [
    "# Job tenure date\n",
    "# Very similar to above\n",
    "\n",
    "# Again we go through every column, and parse the string into a datetime object that we can do some nice operations on\n",
    "# BTW: we also include the error='coerce' option\n",
    "hr_data['Current Hire Date'] = pd.to_datetime(hr_data['Current Hire Date'], errors='coerce')\n",
    "exit_data['Cur.Hire'] = pd.to_datetime(exit_data['Cur.Hire'], errors='coerce')\n",
    "\n",
    "# We already created the report date, so we don't need to re-create it ... \n",
    "\n",
    "# Now we calculate the dates\n",
    "hr_data['Job Tenure days'] = (hr_data['Report date'] - hr_data['Current Hire Date']).dt.days\n",
    "exit_data['Job Tenure days'] = (exit_data['Report date'] - exit_data['Cur.Hire']).dt.days\n",
    "\n",
    "# And finally we print to visualize the results\n",
    "# I guess results are similar, cuz those 2 fields are prety much always the same\n",
    "print (hr_data[['EmployeeID', 'Job Tenure days']])\n",
    "print (exit_data[['EmployeeID', 'Job Tenure days']])"
   ]
  },
  {
   "cell_type": "code",
   "execution_count": 8,
   "metadata": {},
   "outputs": [
    {
     "name": "stdout",
     "output_type": "stream",
     "text": [
      "Correlation: 0.004528228834491616\n",
      "Correlation: -0.031804855147292206\n"
     ]
    }
   ],
   "source": [
    "# So I have no clue wtf is correlation between 2 columns, but we got something for that in the pandas library\n",
    "# Guess i'll do it for both data sets\n",
    "print ('Correlation:', hr_data['Firm Tenure days'].corr(hr_data['All Turnover']))\n",
    "print ('Correlation:', exit_data['Firm Tenure days'].corr(hr_data['All Turnover']))"
   ]
  },
  {
   "cell_type": "code",
   "execution_count": 9,
   "metadata": {},
   "outputs": [
    {
     "name": "stdout",
     "output_type": "stream",
     "text": [
      "                     mean\n",
      "PS text                  \n",
      "Bus Development  0.040000\n",
      "Business Dev     0.000000\n",
      "CHC Marketing    0.150000\n",
      "CHC Nat          0.000000\n",
      "CHC Sales        0.000000\n",
      "Development      0.077895\n",
      "Dist Warehouse   0.064516\n",
      "Drug Reg Affair  0.018868\n",
      "Engineering      0.071584\n",
      "Environ Affairs  0.000000\n",
      "Finance          0.047244\n",
      "Govt. Affairs    0.071429\n",
      "HR               0.116279\n",
      "IT               0.035354\n",
      "Interns Only     1.000000\n",
      "Legal            0.041096\n",
      "Maintenance      0.111111\n",
      "Management       0.103093\n",
      "Materials Mgmt.  0.071429\n",
      "Medical          0.067754\n",
      "Mgmt Support     0.000000\n",
      "NOBL             0.048387\n",
      "PM Comm Ops      0.083333\n",
      "PM Field Sales   0.087123\n",
      "PM Marketing     0.095238\n",
      "PM Mgmt & Admin  0.090909\n",
      "PM Mngd Mkt Fld  0.080000\n",
      "PM Mngd Mkt Off  0.043478\n",
      "PM Sales Admin   0.000000\n",
      "Production       0.058703\n",
      "Public Affairs   0.150000\n",
      "Purchasing       0.120879\n",
      "QA - Quality     0.074675\n",
      "R & D            0.111111\n",
      "R&D              0.067692\n",
      "Research         0.079487\n",
      "Service Center   0.057143\n",
      "Spec Projects    0.142857\n",
      "Tax              0.000000\n"
     ]
    }
   ],
   "source": [
    "# Pivot table\n",
    "print (pd.pivot_table(hr_data, values='Voluntary Turnover', index=['PS text'], aggfunc={np.mean}))"
   ]
  },
  {
   "cell_type": "code",
   "execution_count": 10,
   "metadata": {},
   "outputs": [],
   "source": [
    "# I guess that's it! I'm pretty sure not everything is correct, but should be close enough i guess!"
   ]
  },
  {
   "cell_type": "code",
   "execution_count": 15,
   "metadata": {},
   "outputs": [],
   "source": [
    "# Download data frames for verifications\n",
    "hr_data.to_csv('HR_data.csv', index = False)\n",
    "exit_data.to_csv('Exit_data.csv', index = False)"
   ]
  }
 ],
 "metadata": {
  "kernelspec": {
   "display_name": "Python 3",
   "language": "python",
   "name": "python3"
  },
  "language_info": {
   "codemirror_mode": {
    "name": "ipython",
    "version": 3
   },
   "file_extension": ".py",
   "mimetype": "text/x-python",
   "name": "python",
   "nbconvert_exporter": "python",
   "pygments_lexer": "ipython3",
   "version": "3.6.11"
  }
 },
 "nbformat": 4,
 "nbformat_minor": 4
}
